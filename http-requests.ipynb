{
 "cells": [
  {
   "cell_type": "code",
   "execution_count": null,
   "metadata": {},
   "outputs": [],
   "source": [
    "import requests\n",
    "import os\n",
    "from PIL import Image\n",
    "from dotenv import load_dotenv\n",
    "\n",
    "load_dotenv()"
   ]
  },
  {
   "cell_type": "code",
   "execution_count": null,
   "metadata": {},
   "outputs": [],
   "source": [
    "def getRandomCoffee():\n",
    "    ENDPOINT = 'https://coffee.alexflipnote.dev/random.json'\n",
    "    response = requests.get(ENDPOINT)\n",
    "    data = response.json()\n",
    "    print(data['file'])\n",
    "    return data['file']\n",
    "\n",
    "def displayImage(url):\n",
    "    image = Image.open(requests.get(url, stream=True).raw)\n",
    "    image.show()\n",
    "\n",
    "coffee = getRandomCoffee()\n",
    "displayImage(coffee)"
   ]
  },
  {
   "cell_type": "code",
   "execution_count": null,
   "metadata": {},
   "outputs": [],
   "source": [
    "FRED_API_KEY = os.getenv('FRED_API_KEY')\n",
    "ENDPOINT = 'https://api.stlouisfed.org/fred/releases'\n",
    "query = f'api_key={FRED_API_KEY}&file_type=json'\n",
    "\n",
    "response = requests.get(f'{ENDPOINT}?{query}')\n",
    "data = response.json()\n",
    "\n",
    "for release in data['releases']:\n",
    "    releaseName = release['name']\n",
    "    releaseDate = release['realtime_start']\n",
    "    print(f'{releaseName} - {releaseDate}')"
   ]
  },
  {
   "cell_type": "code",
   "execution_count": null,
   "metadata": {},
   "outputs": [],
   "source": [
    "url = 'https://www.abc.net.au/news/2024-07-31/paris-olympic-games-simone-biles-team-usa-gold/104140680'\n",
    "response = requests.get(url)\n",
    "html = response.text\n",
    "# print(html)\n",
    "html = html.lower()\n",
    "simoneBilesCount = html.count('biles')\n",
    "print(f\"Simone Biles count: {simoneBilesCount}\")\n"
   ]
  }
 ],
 "metadata": {
  "kernelspec": {
   "display_name": "Python 3",
   "language": "python",
   "name": "python3"
  },
  "language_info": {
   "codemirror_mode": {
    "name": "ipython",
    "version": 3
   },
   "file_extension": ".py",
   "mimetype": "text/x-python",
   "name": "python",
   "nbconvert_exporter": "python",
   "pygments_lexer": "ipython3",
   "version": "3.11.5"
  }
 },
 "nbformat": 4,
 "nbformat_minor": 2
}
