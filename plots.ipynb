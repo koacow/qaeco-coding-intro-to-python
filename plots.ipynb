{
 "cells": [
  {
   "cell_type": "code",
   "execution_count": null,
   "metadata": {},
   "outputs": [],
   "source": [
    "import requests\n",
    "import dotenv \n",
    "import os\n",
    "import pandas as pd\n",
    "import matplotlib.pyplot as plt\n",
    "import datetime as dt\n",
    "\n",
    "dotenv.load_dotenv()"
   ]
  },
  {
   "cell_type": "code",
   "execution_count": null,
   "metadata": {},
   "outputs": [],
   "source": [
    "OPENWEATHER_API_KEY = os.getenv(\"OPENWEATHER_API_KEY\")\n",
    "\n",
    "GEOCODE_ENDPOINT = 'http://api.openweathermap.org/geo/1.0/direct'\n",
    "AIRPOLLUTION_ENDPOINT = 'http://api.openweathermap.org/data/2.5/air_pollution/history'\n",
    "\n",
    "startDate = '2024-01-01'\n",
    "startTimeStamp = dt.datetime.strptime(startDate, '%Y-%m-%d').timestamp()\n",
    "startTimeStamp = int(startTimeStamp)\n",
    "\n",
    "endTimeStamp = dt.datetime.now().timestamp()\n",
    "endTimeStamp = int(endTimeStamp)\n",
    "\n",
    "def getLatLong(city):\n",
    "    url = f\"{GEOCODE_ENDPOINT}?q={city}&limit=1&appid={OPENWEATHER_API_KEY}\"\n",
    "    response = requests.get(url)\n",
    "    if response.status_code == 200:\n",
    "        data = response.json()\n",
    "        return data[0]['lat'], data[0]['lon']\n",
    "    else:\n",
    "        print(\"Error: \", response.text)\n",
    "        return None, None\n",
    "    \n",
    "def getAirPollution(lat, lon):\n",
    "    url = f\"{AIRPOLLUTION_ENDPOINT}?lat={lat}&lon={lon}&appid={OPENWEATHER_API_KEY}&start={startTimeStamp}&end={endTimeStamp}\"\n",
    "    response = requests.get(url)\n",
    "    if response.status_code == 200:\n",
    "        data = response.json()\n",
    "        return data\n",
    "    else:\n",
    "        print(\"Error: \", response.text)\n",
    "        return None\n",
    "    \n",
    "\n",
    "lat, lon = getLatLong(\"Melbourne\")\n",
    "data = getAirPollution(lat, lon)\n",
    "print(data)"
   ]
  },
  {
   "cell_type": "code",
   "execution_count": null,
   "metadata": {},
   "outputs": [],
   "source": [
    "lat, lon = getLatLong(\"Melbourne\")\n",
    "data = getAirPollution(lat, lon)\n"
   ]
  },
  {
   "cell_type": "code",
   "execution_count": null,
   "metadata": {},
   "outputs": [],
   "source": [
    "dates = [dt.datetime.fromtimestamp(item['dt']) for item in data['list']]\n",
    "components = [item['components'] for item in data['list']]\n",
    "\n",
    "df = pd.DataFrame(components, index=dates)\n",
    "df.index = pd.to_datetime(df.index, unit='D', origin='unix')"
   ]
  },
  {
   "cell_type": "code",
   "execution_count": null,
   "metadata": {},
   "outputs": [],
   "source": [
    "df_daily_avg = df.resample('D').mean()"
   ]
  },
  {
   "cell_type": "code",
   "execution_count": null,
   "metadata": {},
   "outputs": [],
   "source": [
    "df_daily_avg_july = df_daily_avg.loc['2024-06-01':'2024-07-31']"
   ]
  },
  {
   "cell_type": "code",
   "execution_count": null,
   "metadata": {},
   "outputs": [],
   "source": [
    "pollution_metrics = df.columns\n",
    "\n",
    "def plot_metric_time_series (df, metric):\n",
    "    plt.figure(figsize=(10, 5))\n",
    "    plt.style.use('fivethirtyeight')\n",
    "    plt.plot(df.index, df[metric], label=metric)\n",
    "    plt.title(f'Time Series of {metric}')\n",
    "    plt.xlabel('Date')\n",
    "    plt.xticks(rotation=60)\n",
    "    plt.ylabel(f'Concentration of {metric} (μg/m3)')\n",
    "    plt.legend()\n",
    "    plt.show()\n",
    "\n",
    "plot_metric_time_series(df, pollution_metrics[0])\n",
    "plot_metric_time_series(df_daily_avg, pollution_metrics[0])\n",
    "plot_metric_time_series(df_daily_avg_july, metric=pollution_metrics[0])"
   ]
  }
 ],
 "metadata": {
  "kernelspec": {
   "display_name": "Python 3",
   "language": "python",
   "name": "python3"
  },
  "language_info": {
   "codemirror_mode": {
    "name": "ipython",
    "version": 3
   },
   "file_extension": ".py",
   "mimetype": "text/x-python",
   "name": "python",
   "nbconvert_exporter": "python",
   "pygments_lexer": "ipython3",
   "version": "3.11.5"
  }
 },
 "nbformat": 4,
 "nbformat_minor": 2
}
