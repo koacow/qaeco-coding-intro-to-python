{
 "cells": [
  {
   "cell_type": "code",
   "execution_count": 9,
   "metadata": {},
   "outputs": [],
   "source": [
    "import pandas as pd"
   ]
  },
  {
   "cell_type": "code",
   "execution_count": 10,
   "metadata": {},
   "outputs": [
    {
     "data": {
      "text/html": [
       "<div>\n",
       "<style scoped>\n",
       "    .dataframe tbody tr th:only-of-type {\n",
       "        vertical-align: middle;\n",
       "    }\n",
       "\n",
       "    .dataframe tbody tr th {\n",
       "        vertical-align: top;\n",
       "    }\n",
       "\n",
       "    .dataframe thead th {\n",
       "        text-align: right;\n",
       "    }\n",
       "</style>\n",
       "<table border=\"1\" class=\"dataframe\">\n",
       "  <thead>\n",
       "    <tr style=\"text-align: right;\">\n",
       "      <th></th>\n",
       "      <th>Breed</th>\n",
       "      <th>Age (Years)</th>\n",
       "      <th>Weight (kg)</th>\n",
       "      <th>Color</th>\n",
       "      <th>Gender</th>\n",
       "    </tr>\n",
       "  </thead>\n",
       "  <tbody>\n",
       "    <tr>\n",
       "      <th>0</th>\n",
       "      <td>Airedale Terrier</td>\n",
       "      <td>13</td>\n",
       "      <td>35</td>\n",
       "      <td>White</td>\n",
       "      <td>Male</td>\n",
       "    </tr>\n",
       "    <tr>\n",
       "      <th>1</th>\n",
       "      <td>Jack Russell Terrier</td>\n",
       "      <td>10</td>\n",
       "      <td>43</td>\n",
       "      <td>Tan</td>\n",
       "      <td>Female</td>\n",
       "    </tr>\n",
       "    <tr>\n",
       "      <th>2</th>\n",
       "      <td>Dogo Argentino</td>\n",
       "      <td>2</td>\n",
       "      <td>16</td>\n",
       "      <td>Spotted</td>\n",
       "      <td>Female</td>\n",
       "    </tr>\n",
       "    <tr>\n",
       "      <th>3</th>\n",
       "      <td>Labrador Retriever</td>\n",
       "      <td>9</td>\n",
       "      <td>57</td>\n",
       "      <td>Bicolor</td>\n",
       "      <td>Male</td>\n",
       "    </tr>\n",
       "    <tr>\n",
       "      <th>4</th>\n",
       "      <td>French Bulldog</td>\n",
       "      <td>12</td>\n",
       "      <td>39</td>\n",
       "      <td>Spotted</td>\n",
       "      <td>Male</td>\n",
       "    </tr>\n",
       "  </tbody>\n",
       "</table>\n",
       "</div>"
      ],
      "text/plain": [
       "                  Breed  Age (Years)  Weight (kg)    Color  Gender\n",
       "0      Airedale Terrier           13           35    White    Male\n",
       "1  Jack Russell Terrier           10           43      Tan  Female\n",
       "2        Dogo Argentino            2           16  Spotted  Female\n",
       "3    Labrador Retriever            9           57  Bicolor    Male\n",
       "4        French Bulldog           12           39  Spotted    Male"
      ]
     },
     "execution_count": 10,
     "metadata": {},
     "output_type": "execute_result"
    }
   ],
   "source": [
    "df = pd.read_csv('dogs_dataset.csv')\n",
    "df.head()"
   ]
  },
  {
   "cell_type": "code",
   "execution_count": 11,
   "metadata": {},
   "outputs": [
    {
     "name": "stdout",
     "output_type": "stream",
     "text": [
      "<class 'pandas.core.frame.DataFrame'>\n",
      "RangeIndex: 3000 entries, 0 to 2999\n",
      "Data columns (total 5 columns):\n",
      " #   Column       Non-Null Count  Dtype \n",
      "---  ------       --------------  ----- \n",
      " 0   Breed        3000 non-null   object\n",
      " 1   Age (Years)  3000 non-null   int64 \n",
      " 2   Weight (kg)  3000 non-null   int64 \n",
      " 3   Color        3000 non-null   object\n",
      " 4   Gender       3000 non-null   object\n",
      "dtypes: int64(2), object(3)\n",
      "memory usage: 117.3+ KB\n"
     ]
    }
   ],
   "source": [
    "df.info()"
   ]
  },
  {
   "cell_type": "code",
   "execution_count": 12,
   "metadata": {},
   "outputs": [
    {
     "data": {
      "text/plain": [
       "(3000, 5)"
      ]
     },
     "execution_count": 12,
     "metadata": {},
     "output_type": "execute_result"
    }
   ],
   "source": [
    "df.shape"
   ]
  },
  {
   "cell_type": "code",
   "execution_count": 13,
   "metadata": {},
   "outputs": [],
   "source": [
    "df.rename(columns={'Age (Years)': 'Age', 'Weight (kg)': 'Weight'}, inplace=True)"
   ]
  },
  {
   "cell_type": "code",
   "execution_count": 14,
   "metadata": {},
   "outputs": [
    {
     "name": "stdout",
     "output_type": "stream",
     "text": [
      "Top 10 Breed:\n",
      "Breed\n",
      "Rottweiler                       118\n",
      "French Bulldog                    70\n",
      "Pekingese                         68\n",
      "Pembroke Welsh Corgi              67\n",
      "Doberman Pinscher                 66\n",
      "Weimaraner                        66\n",
      "Pug                               65\n",
      "Bichon Frise                      64\n",
      "Vizsla                            64\n",
      "Cavalier King Charles Spaniel     64\n",
      "Name: count, dtype: int64\n",
      "\n",
      "Top 10 Color:\n",
      "Color\n",
      "Black and White    205\n",
      "Bicolor            200\n",
      "Brindle            200\n",
      "Merle              199\n",
      "Sable              199\n",
      "Black and Tan      193\n",
      "Spotted            191\n",
      "Blue               191\n",
      "Brown              189\n",
      "Red                185\n",
      "Name: count, dtype: int64\n",
      "\n",
      "Top 10 Gender:\n",
      "Gender\n",
      "Female    1520\n",
      "Male      1480\n",
      "Name: count, dtype: int64\n",
      "\n"
     ]
    }
   ],
   "source": [
    "for j in ['Breed', 'Color', 'Gender']:\n",
    "    count = df[j].value_counts()\n",
    "    print(f'Top 10 {j}:\\n{count[:10]}\\n')"
   ]
  },
  {
   "cell_type": "code",
   "execution_count": 15,
   "metadata": {},
   "outputs": [
    {
     "name": "stdout",
     "output_type": "stream",
     "text": [
      "Top 10 average Age by Breed:\n",
      "Breed\n",
      "Lhasa Apso                     8.66\n",
      "Boxer                          8.56\n",
      "Belgian Malinois               8.36\n",
      "Chihuahua                      8.35\n",
      "Airedale Terrier               8.22\n",
      "Yorkshire Terrier              8.21\n",
      "Poodle                         8.08\n",
      "Irish Setter                   8.07\n",
      "Shiba Inu                      8.00\n",
      "West Highland White Terrier    7.98\n",
      "Name: Age, dtype: float64\n",
      "\n",
      "Top 10 average Weight by Breed:\n",
      "Breed\n",
      "Chinese Shar-Pei        38.23\n",
      "Golden Retriever        35.45\n",
      "Miniature Schnauzer     35.29\n",
      "Alaskan Malamute        34.64\n",
      "Bulldog                 34.60\n",
      "Pembroke Welsh Corgi    34.48\n",
      "Saint Bernard           34.30\n",
      "Bull Terrier            34.16\n",
      "Dachshund               33.88\n",
      "Dogo Argentino          33.67\n",
      "Name: Weight, dtype: float64\n",
      "\n"
     ]
    }
   ],
   "source": [
    "grouped = df.groupby('Breed')\n",
    "\n",
    "for column in ['Age', 'Weight']:\n",
    "    mean = grouped[column].mean().sort_values(ascending=False).round(2)\n",
    "    print(f'Top 10 average {column} by Breed:\\n{mean[:10]}\\n')"
   ]
  }
 ],
 "metadata": {
  "kernelspec": {
   "display_name": "Python 3",
   "language": "python",
   "name": "python3"
  },
  "language_info": {
   "codemirror_mode": {
    "name": "ipython",
    "version": 3
   },
   "file_extension": ".py",
   "mimetype": "text/x-python",
   "name": "python",
   "nbconvert_exporter": "python",
   "pygments_lexer": "ipython3",
   "version": "3.11.5"
  }
 },
 "nbformat": 4,
 "nbformat_minor": 2
}
